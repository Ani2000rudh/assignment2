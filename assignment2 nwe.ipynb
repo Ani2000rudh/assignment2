{
 "cells": [
  {
   "cell_type": "code",
   "execution_count": 17,
   "id": "30e8aaa8-6be7-4a2e-828e-61404f0132b9",
   "metadata": {},
   "outputs": [],
   "source": [
    "#Q1. Which keyword is used to create a function? Create a function to return a list of odd numbers in therange of 1 to 25\n",
    "\n",
    "''' \"def\" is the keyword used to create dunction\n",
    " syntax def function_name():''''\n",
    "\n",
    "def odd(n):\n",
    "    b=[]\n",
    "    for i in range(n+1):\n",
    "        if i%2 !=0:\n",
    "            b.append(i)\n",
    "    return b\n",
    "    \n",
    "\n",
    "\n",
    "\n"
   ]
  },
  {
   "cell_type": "code",
   "execution_count": 18,
   "id": "e48e909b-cabc-4025-8744-2514958a05e9",
   "metadata": {},
   "outputs": [
    {
     "data": {
      "text/plain": [
       "[1, 3, 5, 7, 9, 11, 13, 15, 17, 19, 21, 23, 25]"
      ]
     },
     "execution_count": 18,
     "metadata": {},
     "output_type": "execute_result"
    }
   ],
   "source": [
    "odd(25)\n"
   ]
  },
  {
   "cell_type": "code",
   "execution_count": 20,
   "id": "2ee152fd-a7b8-4ac6-a685-d63a7ea95f89",
   "metadata": {},
   "outputs": [
    {
     "data": {
      "text/plain": [
       "13"
      ]
     },
     "execution_count": 20,
     "metadata": {},
     "output_type": "execute_result"
    }
   ],
   "source": [
    "#Q2. Why *args and **kwargs is used in some functions? Create a function each for *args and **kwargs to demonstrate their use\n",
    "\n",
    "\n",
    " '''*args and **kwargs are used to create afunction which can take \"n\" no of input.**kwargs is specific for dictinary type\n",
    " #eg '''\n",
    "def test1(a,b):\n",
    "    c=a+b\n",
    "    return c\n",
    "\n",
    "test1(6,7)\n",
    "\n",
    "\n",
    "    "
   ]
  },
  {
   "cell_type": "code",
   "execution_count": 23,
   "id": "4613f422-0c4d-4bcc-a5d3-79691eb51c09",
   "metadata": {},
   "outputs": [
    {
     "ename": "TypeError",
     "evalue": "test1() takes 2 positional arguments but 3 were given",
     "output_type": "error",
     "traceback": [
      "\u001b[0;31m---------------------------------------------------------------------------\u001b[0m",
      "\u001b[0;31mTypeError\u001b[0m                                 Traceback (most recent call last)",
      "Cell \u001b[0;32mIn[23], line 1\u001b[0m\n\u001b[0;32m----> 1\u001b[0m \u001b[43mtest1\u001b[49m\u001b[43m(\u001b[49m\u001b[38;5;241;43m1\u001b[39;49m\u001b[43m,\u001b[49m\u001b[38;5;241;43m3\u001b[39;49m\u001b[43m,\u001b[49m\u001b[38;5;241;43m40\u001b[39;49m\u001b[43m)\u001b[49m\n",
      "\u001b[0;31mTypeError\u001b[0m: test1() takes 2 positional arguments but 3 were given"
     ]
    }
   ],
   "source": [
    "test1(1,3,40) # error comes when more input is given then specified in fun"
   ]
  },
  {
   "cell_type": "code",
   "execution_count": 24,
   "id": "d6cee3b5-e275-4b7d-b4d1-92b0f15d52dd",
   "metadata": {},
   "outputs": [],
   "source": [
    "def test2(*args):\n",
    "    c=sum(args)\n",
    "    return c"
   ]
  },
  {
   "cell_type": "code",
   "execution_count": 25,
   "id": "3a8a3db3-91c9-4edc-8662-c46a4977ee1a",
   "metadata": {},
   "outputs": [
    {
     "data": {
      "text/plain": [
       "142"
      ]
     },
     "execution_count": 25,
     "metadata": {},
     "output_type": "execute_result"
    }
   ],
   "source": [
    "test2(2,3,3,56,78)"
   ]
  },
  {
   "cell_type": "code",
   "execution_count": 27,
   "id": "6369bb70-341a-4ebe-add4-594674f84d33",
   "metadata": {},
   "outputs": [
    {
     "data": {
      "text/plain": [
       "{'a': 34, 'b': 23, 'c': [1, 2, 3, 4], 'd': ('datascience', 'pwskills')}"
      ]
     },
     "execution_count": 27,
     "metadata": {},
     "output_type": "execute_result"
    }
   ],
   "source": [
    "def test5(**kwargs): # similarly *kwargs are used to give n no of key value input\n",
    "    return kwargs\n",
    "test5(a = 34 , b = 23 , c = [1,2,3,4] , d = (\"datascience\" , \"pwskills\"))\n"
   ]
  },
  {
   "cell_type": "code",
   "execution_count": null,
   "id": "00e9e68a-5622-4dfa-98f7-884922dbffc0",
   "metadata": {},
   "outputs": [],
   "source": [
    "#Q3. What is an iterator in python? Name the method used to initialise the iterator object and the method\n",
    "#used for iteration. Use these methods to print the first five elements of the given list [2, 4, 6, 8, 10, 12, 14, 16,18, 20]]\n",
    "\n",
    "\n",
    "''' iterator in python is that which passes through the given data(lists,tuples,etc) and picks the required one as indicated\n",
    ". iterator is initilised to zero usally, iteration is performed using loops like forloop or while loop.'''\n",
    "\n",
    "list1=[2, 4, 6, 8, 10, 12, 14, 16,18,20]\n",
    "for i in range(5):\n",
    "    print(list1[i])\n",
    "    \n",
    "    \n",
    "        "
   ]
  },
  {
   "cell_type": "code",
   "execution_count": null,
   "id": "7b160db7-ec5b-49fa-bf83-88f1be285bc5",
   "metadata": {},
   "outputs": [],
   "source": [
    "#Q4. What is a generator function in python? Why yield keyword is used? Give an example of a generatorfunction.\n",
    "\n",
    "''' function usally stores data before returning it.it captures some memory when this data is too bulk then high memory is required\n",
    "so to over this generator function is used.yelid is used to print output without remembering it'''\n",
    "\n",
    "def gen(n):\n",
    "    for i in range(1,n):\n",
    "        if n%i ==0:\n",
    "            yield i\n",
    "    "
   ]
  },
  {
   "cell_type": "code",
   "execution_count": null,
   "id": "4b46a71e-f25b-4d8f-8a1d-e94f041bd8ac",
   "metadata": {},
   "outputs": [],
   "source": [
    "gen(10) # program to give divisor of the number with in its range"
   ]
  },
  {
   "cell_type": "code",
   "execution_count": 66,
   "id": "fa7d73cf-5055-450b-966c-73a7355d74ae",
   "metadata": {},
   "outputs": [
    {
     "name": "stdout",
     "output_type": "stream",
     "text": [
      "1\n",
      "2\n",
      "5\n"
     ]
    }
   ],
   "source": [
    "for i in gen(10):\n",
    "    print(i)"
   ]
  },
  {
   "cell_type": "code",
   "execution_count": 68,
   "id": "27b4b954-bfeb-41b0-b21f-3cfaa0aac1e3",
   "metadata": {},
   "outputs": [
    {
     "name": "stdout",
     "output_type": "stream",
     "text": [
      "2\n",
      "3\n",
      "5\n",
      "7\n",
      "11\n",
      "13\n",
      "17\n",
      "19\n",
      "23\n",
      "29\n",
      "31\n",
      "37\n",
      "41\n",
      "43\n",
      "47\n",
      "53\n",
      "59\n",
      "61\n",
      "67\n",
      "71\n"
     ]
    }
   ],
   "source": [
    "#Q5. Create a generator function for prime numbers less than 1000. Use the next() method to print thef irst 20 prime numbers\n",
    "\n",
    "\n",
    "def prime():\n",
    "    num = 2\n",
    "    while num < 1000:\n",
    "        for i in range(2, num):\n",
    "            if num % i == 0:\n",
    "                break\n",
    "        else:\n",
    "            yield num\n",
    "        num += 1\n",
    "\n",
    "prime_gen = prime()\n",
    "for i in range(20):\n",
    "    print(next(prime_gen))\n",
    "\n",
    "\n",
    "\n"
   ]
  },
  {
   "cell_type": "code",
   "execution_count": null,
   "id": "2aa09ac2-098f-4739-ba71-99a0c2ff69e8",
   "metadata": {},
   "outputs": [],
   "source": []
  },
  {
   "cell_type": "code",
   "execution_count": null,
   "id": "a46a7846-0498-4e3f-b74c-b4c970d91e0b",
   "metadata": {},
   "outputs": [],
   "source": []
  }
 ],
 "metadata": {
  "kernelspec": {
   "display_name": "Python 3 (ipykernel)",
   "language": "python",
   "name": "python3"
  },
  "language_info": {
   "codemirror_mode": {
    "name": "ipython",
    "version": 3
   },
   "file_extension": ".py",
   "mimetype": "text/x-python",
   "name": "python",
   "nbconvert_exporter": "python",
   "pygments_lexer": "ipython3",
   "version": "3.10.8"
  }
 },
 "nbformat": 4,
 "nbformat_minor": 5
}
